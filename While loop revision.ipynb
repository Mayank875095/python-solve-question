{
 "cells": [
  {
   "cell_type": "code",
   "execution_count": 3,
   "id": "92717290",
   "metadata": {},
   "outputs": [
    {
     "name": "stdout",
     "output_type": "stream",
     "text": [
      "Enter the number: 45\n",
      "45 x 1 = 45\n",
      "45 x 2 = 90\n",
      "45 x 3 = 135\n",
      "45 x 4 = 180\n",
      "45 x 5 = 225\n",
      "45 x 6 = 270\n",
      "45 x 7 = 315\n",
      "45 x 8 = 360\n",
      "45 x 9 = 405\n",
      "45 x 10 = 450\n"
     ]
    }
   ],
   "source": [
    "number = int(input(\"Enter the number: \"))\n",
    "count = 1\n",
    "while count <= 10:\n",
    "    table = number * count\n",
    "    print(number, \"x\",count, \"=\",table)\n",
    "    count = count + 1\n",
    "    "
   ]
  },
  {
   "cell_type": "code",
   "execution_count": 4,
   "id": "b51250db",
   "metadata": {},
   "outputs": [
    {
     "data": {
      "text/plain": [
       "'\\nPractice Question:- \\nPrint all number from 0 to 5 with 5 included.\\n'"
      ]
     },
     "execution_count": 4,
     "metadata": {},
     "output_type": "execute_result"
    }
   ],
   "source": [
    "'''\n",
    "Practice Question:- \n",
    "Print all number from 0 to 5 with 5 included.\n",
    "'''"
   ]
  },
  {
   "cell_type": "code",
   "execution_count": 5,
   "id": "ba70e555",
   "metadata": {},
   "outputs": [
    {
     "name": "stdout",
     "output_type": "stream",
     "text": [
      "0 1 2 3 4 5 "
     ]
    }
   ],
   "source": [
    "number = 0 # initialization\n",
    "\n",
    "while number <= 5: # Condition\n",
    "    print(number, end = \" \")\n",
    "    number += 1 # Updation\n",
    "    "
   ]
  },
  {
   "cell_type": "code",
   "execution_count": 8,
   "id": "7e0d7b08",
   "metadata": {},
   "outputs": [
    {
     "name": "stdout",
     "output_type": "stream",
     "text": [
      "55 89\n"
     ]
    },
    {
     "data": {
      "text/plain": [
       "'yha pr end kya kaam krr rha hai ki diye hue values ko new line me naa \\nprint krr ke same line me space de krr print krr rha ahi (\\n) \\n'"
      ]
     },
     "execution_count": 8,
     "metadata": {},
     "output_type": "execute_result"
    }
   ],
   "source": [
    "print(55, end = \" \")\n",
    "print(89)\n",
    "'''yha pr end kya kaam krr rha hai ki diye hue values ko new line me naa \n",
    "print krr ke same line me space de krr print krr rha ahi (\\n) \n",
    "'''"
   ]
  },
  {
   "cell_type": "code",
   "execution_count": 11,
   "id": "5dac79f8",
   "metadata": {},
   "outputs": [
    {
     "name": "stdout",
     "output_type": "stream",
     "text": [
      "25 _ _ _ _ 546 _ _ _ _ 182 _ _ _ _ 295 _ _ _ _ 62626 _ _ _ _ 265 _ _ _ _ 9269 _ _ _ _ 2 _ _ _ _ 4\n"
     ]
    }
   ],
   "source": [
    "print(25,546,182,295,62626,265,9269,2,4,sep = \" _ _ _ _ \")"
   ]
  },
  {
   "cell_type": "code",
   "execution_count": 17,
   "id": "94f69585",
   "metadata": {},
   "outputs": [
    {
     "name": "stdout",
     "output_type": "stream",
     "text": [
      "45 + 85 + 64 -  95\n"
     ]
    },
    {
     "data": {
      "text/plain": [
       "'\\nseperater work to change the condition according by your self in same\\nprint line.\\n'"
      ]
     },
     "execution_count": 17,
     "metadata": {},
     "output_type": "execute_result"
    }
   ],
   "source": [
    "print(45,85,64, sep = \" + \", end = \" -  \")\n",
    "print(95)\n",
    "'''\n",
    "seperater work to change the condition according by your self in same\n",
    "print line.\n",
    "'''"
   ]
  },
  {
   "cell_type": "code",
   "execution_count": 18,
   "id": "1026c5a6",
   "metadata": {},
   "outputs": [
    {
     "name": "stdout",
     "output_type": "stream",
     "text": [
      "5 6 7 8 9 10 11 12 13 14 15 16 17 18 19 20 21 22 23 24 "
     ]
    }
   ],
   "source": [
    "number = 5\n",
    "while number < 25:\n",
    "    print(number , end = \" \")\n",
    "    number += 1"
   ]
  },
  {
   "cell_type": "code",
   "execution_count": 19,
   "id": "f66ab237",
   "metadata": {},
   "outputs": [
    {
     "data": {
      "text/plain": [
       "'\\nquestion 1- \\nTake an  input from the user and alternate number from 1 to input\\nInput will be a positive number > 1.\\n\\nINPUT - 7\\nOUTPUT - 1 3 5 7\\n'"
      ]
     },
     "execution_count": 19,
     "metadata": {},
     "output_type": "execute_result"
    }
   ],
   "source": [
    "'''\n",
    "question 1- \n",
    "Take an  input from the user and alternate number from 1 to input\n",
    "Input will be a positive number > 1.\n",
    "\n",
    "INPUT - 7\n",
    "OUTPUT - 1 3 5 7\n",
    "'''"
   ]
  },
  {
   "cell_type": "code",
   "execution_count": 27,
   "id": "fd3978d1",
   "metadata": {},
   "outputs": [
    {
     "name": "stdout",
     "output_type": "stream",
     "text": [
      "Enter a number: 7\n",
      "1 3 5 7 "
     ]
    }
   ],
   "source": [
    "number = int(input(\"Enter a number: \"))\n",
    "\n",
    "i = 1\n",
    "\n",
    "while i <= number:\n",
    "    print(i, end = \" \")\n",
    "    i += 2"
   ]
  },
  {
   "cell_type": "code",
   "execution_count": 28,
   "id": "f6b7d54c",
   "metadata": {},
   "outputs": [
    {
     "name": "stdout",
     "output_type": "stream",
     "text": [
      "Enter a number: 7\n",
      "3 5 7 9 "
     ]
    }
   ],
   "source": [
    "number = int(input(\"Enter a number: \"))\n",
    "\n",
    "i = 1\n",
    "\n",
    "while i <= number:\n",
    "    i += 2\n",
    "    print(i, end = \" \")"
   ]
  },
  {
   "cell_type": "code",
   "execution_count": 29,
   "id": "9f54830f",
   "metadata": {},
   "outputs": [
    {
     "data": {
      "text/plain": [
       "'\\nquestion 2- \\nTake an  input from the user and alternate number from 1 to input\\nif number is > 1 -> Print as required.\\nElse print \"Number is smaller than 1!\"\\n\\nINPUT - 7\\nOUTPUT - 1 3 5 7\\n\\nINPUT - -5\\nOUTPUT = Number is smaller than 1.\\n'"
      ]
     },
     "execution_count": 29,
     "metadata": {},
     "output_type": "execute_result"
    }
   ],
   "source": [
    "'''\n",
    "question 2- \n",
    "Take an  input from the user and alternate number from 1 to input\n",
    "if number is > 1 -> Print as required.\n",
    "Else print \"Number is smaller than 1!\"\n",
    "\n",
    "INPUT - 7\n",
    "OUTPUT - 1 3 5 7\n",
    "\n",
    "INPUT - -5\n",
    "OUTPUT = Number is smaller than 1.\n",
    "'''"
   ]
  },
  {
   "cell_type": "code",
   "execution_count": 32,
   "id": "e6162ac5",
   "metadata": {},
   "outputs": [
    {
     "name": "stdout",
     "output_type": "stream",
     "text": [
      "Enter a number: -2\n",
      "Number is smaller than or equal to 1!\n"
     ]
    }
   ],
   "source": [
    "number = int(input(\"Enter a number: \"))\n",
    "\n",
    "if number > 1:\n",
    "    i = 1\n",
    "    \n",
    "    while i <= number:\n",
    "        print(i)\n",
    "        i += 2\n",
    "else:\n",
    "    print(\"Number is smaller than or equal to 1!\")"
   ]
  },
  {
   "cell_type": "code",
   "execution_count": 33,
   "id": "8d6a8339",
   "metadata": {},
   "outputs": [
    {
     "data": {
      "text/plain": [
       "'\\nQuestion - 3\\nTake two inputs from user for start and end integer values.\\nPrint every third number starting at start till end (end included).\\n'"
      ]
     },
     "execution_count": 33,
     "metadata": {},
     "output_type": "execute_result"
    }
   ],
   "source": [
    "'''\n",
    "Question - 3\n",
    "Take two inputs from user for start and end integer values.\n",
    "Print every third number starting at start till end (end included).\n",
    "'''"
   ]
  },
  {
   "cell_type": "code",
   "execution_count": 43,
   "id": "ba72e4db",
   "metadata": {},
   "outputs": [
    {
     "name": "stdout",
     "output_type": "stream",
     "text": [
      "Enter a number1: 3\n",
      "Enter a number2: 33\n",
      "3 -> 6 -> 9 -> 12 -> 15 -> 18 -> 21 -> 24 -> 27 -> 30 -> 33 -> "
     ]
    }
   ],
   "source": [
    "n1 = int(input(\"Enter a number1: \"))\n",
    "n2 = int(input(\"Enter a number2: \"))\n",
    "i = 1\n",
    "while n1 <= n2:\n",
    "    print(n1, end = \" -> \")\n",
    "    n1 += 3"
   ]
  },
  {
   "cell_type": "code",
   "execution_count": 44,
   "id": "6cb4ace9",
   "metadata": {},
   "outputs": [
    {
     "data": {
      "text/plain": [
       "'\\nQuestion - 4\\nTake an input from user for start and end values.\\nPrint all even numbers between them. (start and end included)\\n\\nINPUT -\\n3\\n7\\n\\nOUTPUT - 4 6\\n\\n'"
      ]
     },
     "execution_count": 44,
     "metadata": {},
     "output_type": "execute_result"
    }
   ],
   "source": [
    "'''\n",
    "Question - 4\n",
    "Take an input from user for start and end values.\n",
    "Print all even numbers between them. (start and end included)\n",
    "\n",
    "INPUT -\n",
    "3\n",
    "7\n",
    "\n",
    "OUTPUT - 4 6\n",
    "\n",
    "'''"
   ]
  },
  {
   "cell_type": "code",
   "execution_count": 50,
   "id": "0fe9540a",
   "metadata": {},
   "outputs": [
    {
     "name": "stdout",
     "output_type": "stream",
     "text": [
      "Enter a number Start: 1\n",
      "Enter a number End: 9\n",
      "2 4 6 8 This loop ran 9 times.\n"
     ]
    },
    {
     "data": {
      "text/plain": [
       "'\\ncounter is use to count how much time the loop is run.\\n'"
      ]
     },
     "execution_count": 50,
     "metadata": {},
     "output_type": "execute_result"
    }
   ],
   "source": [
    "s = int(input(\"Enter a number Start: \"))\n",
    "e = int(input(\"Enter a number End: \"))\n",
    "\n",
    "counter = 0\n",
    "\n",
    "while s <= e:\n",
    "    counter += 1 \n",
    "    \n",
    "    if s % 2 == 0:\n",
    "        print(s, end = \" \")\n",
    "        \n",
    "    s += 1\n",
    "print(\"This loop ran\", counter, \"times.\")\n",
    "\n",
    "'''\n",
    "counter is use to count how much time the loop is run.\n",
    "'''"
   ]
  },
  {
   "cell_type": "code",
   "execution_count": 55,
   "id": "febbd1c9",
   "metadata": {},
   "outputs": [
    {
     "name": "stdout",
     "output_type": "stream",
     "text": [
      "Enter a number Start: 8\n",
      "Enter a number End: 20\n",
      "8 10 12 14 16 18 20 This loop ran 7 times.\n"
     ]
    }
   ],
   "source": [
    "s = int(input(\"Enter a number Start: \"))\n",
    "e = int(input(\"Enter a number End: \"))\n",
    "\n",
    "if s % 2 == 0:\n",
    "    i = s\n",
    "else:\n",
    "    i = s + 1\n",
    "    \n",
    "counter = 0\n",
    "while s <= e:\n",
    "    counter += 1\n",
    "    print(s, end = \" \")\n",
    "    s += 2\n",
    "    \n",
    "print(\"This loop ran\", counter, \"times.\")"
   ]
  },
  {
   "cell_type": "code",
   "execution_count": null,
   "id": "690f2cb2",
   "metadata": {},
   "outputs": [],
   "source": []
  }
 ],
 "metadata": {
  "kernelspec": {
   "display_name": "Python 3 (ipykernel)",
   "language": "python",
   "name": "python3"
  },
  "language_info": {
   "codemirror_mode": {
    "name": "ipython",
    "version": 3
   },
   "file_extension": ".py",
   "mimetype": "text/x-python",
   "name": "python",
   "nbconvert_exporter": "python",
   "pygments_lexer": "ipython3",
   "version": "3.10.9"
  }
 },
 "nbformat": 4,
 "nbformat_minor": 5
}
