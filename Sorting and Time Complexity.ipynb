{
 "cells": [
  {
   "cell_type": "code",
   "execution_count": 1,
   "metadata": {},
   "outputs": [
    {
     "data": {
      "text/plain": [
       "'\\nCost Function = Number of operation if the function is executed.\\n\\nCost (Foo()) = 3 (constant)\\n'"
      ]
     },
     "execution_count": 1,
     "metadata": {},
     "output_type": "execute_result"
    }
   ],
   "source": [
    "# Example 1\n",
    "def foo():\n",
    "    x = 1 # 1 operation\n",
    "    y = 2 # 2 operation\n",
    "    z = 3 # 3 operation\n",
    "'''\n",
    "Cost Function = Number of operation if the function is executed.\n",
    "\n",
    "Cost (Foo()) = 3 (constant)\n",
    "'''"
   ]
  },
  {
   "cell_type": "code",
   "execution_count": 2,
   "metadata": {},
   "outputs": [
    {
     "data": {
      "text/plain": [
       "'\\nFoo(5) -> 3\\nFoo(5000) -> 3\\nFoo(5000000) -> 3\\n\\n\\nCost (Foo()) = 3 (constant)\\n'"
      ]
     },
     "execution_count": 2,
     "metadata": {},
     "output_type": "execute_result"
    }
   ],
   "source": [
    "# Example 2\n",
    "def foo(n):\n",
    "    x = 1 # 1 operation\n",
    "    y = 2 # 2 operation\n",
    "    z = 3 # 3 operation\n",
    "'''\n",
    "Foo(5) -> 3\n",
    "Foo(5000) -> 3\n",
    "Foo(5000000) -> 3\n",
    "\n",
    "\n",
    "Cost (Foo()) = 3 (constant)\n",
    "'''"
   ]
  },
  {
   "cell_type": "code",
   "execution_count": 3,
   "metadata": {},
   "outputs": [
    {
     "data": {
      "text/plain": [
       "'\\ncost(Foo()) = n (linear)\\n'"
      ]
     },
     "execution_count": 3,
     "metadata": {},
     "output_type": "execute_result"
    }
   ],
   "source": [
    "# Example 3\n",
    "def foo(n):\n",
    "    for i in range(n):\n",
    "        print(i) # n operations\n",
    "\n",
    "'''\n",
    "cost(Foo()) = n (linear)\n",
    "'''"
   ]
  },
  {
   "cell_type": "code",
   "execution_count": 4,
   "metadata": {},
   "outputs": [
    {
     "data": {
      "text/plain": [
       "'\\nCost(foo()) = n + 2\\n'"
      ]
     },
     "execution_count": 4,
     "metadata": {},
     "output_type": "execute_result"
    }
   ],
   "source": [
    "# Example 4\n",
    "\n",
    "def foo(n):\n",
    "    x = 2\n",
    "    y = 3\n",
    "\n",
    "    for i in range(n):\n",
    "        print(i)\n",
    "    \n",
    "'''\n",
    "Cost(foo()) = n + 2\n",
    "'''"
   ]
  },
  {
   "cell_type": "code",
   "execution_count": 5,
   "metadata": {},
   "outputs": [
    {
     "data": {
      "text/plain": [
       "'\\ncost(foo()) = n*2 (exponential)\\n'"
      ]
     },
     "execution_count": 5,
     "metadata": {},
     "output_type": "execute_result"
    }
   ],
   "source": [
    "# Example 5\n",
    "\n",
    "def foo(n):\n",
    "    for i in range(n):\n",
    "        for j in range(n):\n",
    "            print(i*j) # n*n operations\n",
    "\n",
    "'''\n",
    "cost(foo()) = n*2 (exponential)\n",
    "'''"
   ]
  },
  {
   "cell_type": "code",
   "execution_count": 6,
   "metadata": {},
   "outputs": [
    {
     "data": {
      "text/plain": [
       "'\\ncost(foo()) = n*2 + n + 1\\n'"
      ]
     },
     "execution_count": 6,
     "metadata": {},
     "output_type": "execute_result"
    }
   ],
   "source": [
    "# Example 6\n",
    "\n",
    "def foo(n):\n",
    "    for i in range(n):\n",
    "        for j in range(n):\n",
    "            print(i*j) # n*n operations\n",
    "\n",
    "    for k in range(n):\n",
    "        print(k) # n operations\n",
    "\n",
    "    print(\"WOW!!\") # 1 operation\n",
    "'''\n",
    "cost(foo()) = n*2 + n + 1\n",
    "'''"
   ]
  },
  {
   "cell_type": "code",
   "execution_count": 7,
   "metadata": {},
   "outputs": [],
   "source": [
    "def bubble_sort(a):\n",
    "    for i in range(len(a)):\n",
    "        for j in range(len(a) - i - 1):\n",
    "            if a[j] > a[j + 1]:\n",
    "                a[j], a[j+1] = a[j+1], a[j]\n",
    "\n",
    "    return a"
   ]
  },
  {
   "cell_type": "code",
   "execution_count": 8,
   "metadata": {},
   "outputs": [
    {
     "data": {
      "text/plain": [
       "[1, 2, 3, 4, 5, 7]"
      ]
     },
     "execution_count": 8,
     "metadata": {},
     "output_type": "execute_result"
    }
   ],
   "source": [
    "bubble_sort([5,1,2,4,7,3])"
   ]
  },
  {
   "cell_type": "code",
   "execution_count": 10,
   "metadata": {},
   "outputs": [
    {
     "ename": "TypeError",
     "evalue": "range expected at least 1 argument, got 0",
     "output_type": "error",
     "traceback": [
      "\u001b[1;31m---------------------------------------------------------------------------\u001b[0m",
      "\u001b[1;31mTypeError\u001b[0m                                 Traceback (most recent call last)",
      "Cell \u001b[1;32mIn[10], line 1\u001b[0m\n\u001b[1;32m----> 1\u001b[0m \u001b[39mfor\u001b[39;00m i \u001b[39min\u001b[39;00m \u001b[39mrange\u001b[39;49m():\n\u001b[0;32m      2\u001b[0m   j\u001b[39m=\u001b[39mi\n\u001b[0;32m      3\u001b[0m   \u001b[39mwhile\u001b[39;00m j\u001b[39m<\u001b[39mi:\n",
      "\u001b[1;31mTypeError\u001b[0m: range expected at least 1 argument, got 0"
     ]
    }
   ],
   "source": [
    "for i in range():\n",
    "  j=i\n",
    "  while j<i:\n",
    "    print(j)\n",
    "    j=j+1"
   ]
  },
  {
   "cell_type": "code",
   "execution_count": 12,
   "metadata": {},
   "outputs": [],
   "source": [
    "def bubble_short(arr):\n",
    "  for j in range(len(arr)-1,-1,-1):\n",
    "    for k in range(0,j):\n",
    "      if(arr[k]>arr[k+1]):\n",
    "        temp=arr[k]\n",
    "        arr[k]=arr[k+1]\n",
    "        arr[k+1]=temp"
   ]
  },
  {
   "cell_type": "code",
   "execution_count": 1,
   "metadata": {},
   "outputs": [
    {
     "data": {
      "text/plain": [
       "'\\nO() -> Worst case time complexity\\nOmega() -> Best case time complexity\\n\\nUnoptimized Bubble Sort - \\nO(n^2)\\nOmega(n^2)\\n\\nOptimized Bubble Sort - \\nO(n^2)\\nOmega(n)\\n'"
      ]
     },
     "execution_count": 1,
     "metadata": {},
     "output_type": "execute_result"
    }
   ],
   "source": [
    "'''\n",
    "O() -> Worst case time complexity\n",
    "Omega() -> Best case time complexity\n",
    "\n",
    "Unoptimized Bubble Sort - \n",
    "O(n^2)\n",
    "Omega(n^2)\n",
    "\n",
    "Optimized Bubble Sort - \n",
    "O(n^2)\n",
    "Omega(n)\n",
    "'''"
   ]
  },
  {
   "cell_type": "code",
   "execution_count": 2,
   "metadata": {},
   "outputs": [],
   "source": [
    "def Selection_sort(a):\n",
    "    for i in range(len(a) - 1):\n",
    "        current_min = i\n",
    "\n",
    "        for j in range(i + 1, len(a)):\n",
    "            if a [current_min] > a[j]:\n",
    "                current_min = j\n",
    "\n",
    "        if current_min != 1:\n",
    "            a[current_min], a[i] = a[i], a[current_min]\n",
    "\n",
    "    return a"
   ]
  },
  {
   "cell_type": "code",
   "execution_count": 3,
   "metadata": {},
   "outputs": [
    {
     "data": {
      "text/plain": [
       "[1, 2, 3, 4, 5, 8, 9]"
      ]
     },
     "execution_count": 3,
     "metadata": {},
     "output_type": "execute_result"
    }
   ],
   "source": [
    "Selection_sort([2,8,5,3,9,4,1])"
   ]
  },
  {
   "cell_type": "code",
   "execution_count": 2,
   "metadata": {},
   "outputs": [],
   "source": [
    "def selection_sort_visual(a):\n",
    "    print(f\"{a}\")\n",
    "\n",
    "    for i in range(len(a) - 1):\n",
    "        current_min = i\n",
    "\n",
    "        for j in range(i + 1, len(a)):\n",
    "            if a[current_min] > a[j]:\n",
    "                current_min = j\n",
    "\n",
    "        if current_min != i:\n",
    "            a[current_min], a[i] = a[i], a[current_min]\n",
    "\n",
    "        print(f\"{a}\")\n",
    "\n",
    "    return a"
   ]
  },
  {
   "cell_type": "code",
   "execution_count": 3,
   "metadata": {},
   "outputs": [
    {
     "name": "stdout",
     "output_type": "stream",
     "text": [
      "[3, 5, 7, 14, 15]\n",
      "[3, 5, 7, 14, 15]\n",
      "[3, 5, 7, 14, 15]\n",
      "[3, 5, 7, 14, 15]\n",
      "[3, 5, 7, 14, 15]\n"
     ]
    },
    {
     "data": {
      "text/plain": [
       "[3, 5, 7, 14, 15]"
      ]
     },
     "execution_count": 3,
     "metadata": {},
     "output_type": "execute_result"
    }
   ],
   "source": [
    "selection_sort_visual([3,5,7,14,15])"
   ]
  },
  {
   "cell_type": "code",
   "execution_count": 6,
   "metadata": {},
   "outputs": [
    {
     "data": {
      "text/plain": [
       "'\\nSelection Sort - \\nO(n^2)\\nOmega(n^2) <- Explore optimizations on selection sort\\n'"
      ]
     },
     "execution_count": 6,
     "metadata": {},
     "output_type": "execute_result"
    }
   ],
   "source": [
    "'''\n",
    "Selection Sort - \n",
    "O(n^2)\n",
    "Omega(n^2) <- Explore optimizations on selection sort\n",
    "'''"
   ]
  },
  {
   "cell_type": "code",
   "execution_count": 7,
   "metadata": {},
   "outputs": [],
   "source": [
    "def insertion_sort(a):\n",
    "    for i in range(1,len(a)):\n",
    "        index_to_insert = i\n",
    "        j = i - 1\n",
    "\n",
    "        while j >= 0:\n",
    "            if a[j] < a[index_to_insert]:\n",
    "                break\n",
    "\n",
    "            a[j], a[index_to_insert] = a[index_to_insert], a[j]\n",
    "            index_to_insert = j\n",
    "            j -= 1\n",
    "\n",
    "    return a"
   ]
  },
  {
   "cell_type": "code",
   "execution_count": 8,
   "metadata": {},
   "outputs": [],
   "source": [
    "def insertion_sort_visual(a):\n",
    "    for i in range(1, len(a)):\n",
    "        index_to_insert = i\n",
    "        j = i - 1\n",
    "        \n",
    "        print(a[:index_to_insert], \"|\", a[index_to_insert:])\n",
    "        \n",
    "        while j >= 0:\n",
    "            if a[j] < a[index_to_insert]:\n",
    "                break\n",
    "                \n",
    "            a[j], a[index_to_insert] = a[index_to_insert], a[j]\n",
    "            index_to_insert = j\n",
    "            j -= 1\n",
    "            \n",
    "            print(f\"\\t {a}\")\n",
    "            \n",
    "        print(\"-\"*25)\n",
    "    \n",
    "    return a"
   ]
  },
  {
   "cell_type": "code",
   "execution_count": 9,
   "metadata": {},
   "outputs": [
    {
     "name": "stdout",
     "output_type": "stream",
     "text": [
      "[4] | [5, 1, 3, 2]\n",
      "-------------------------\n",
      "[4, 5] | [1, 3, 2]\n",
      "\t [4, 1, 5, 3, 2]\n",
      "\t [1, 4, 5, 3, 2]\n",
      "-------------------------\n",
      "[1, 4, 5] | [3, 2]\n",
      "\t [1, 4, 3, 5, 2]\n",
      "\t [1, 3, 4, 5, 2]\n",
      "-------------------------\n",
      "[1, 3, 4, 5] | [2]\n",
      "\t [1, 3, 4, 2, 5]\n",
      "\t [1, 3, 2, 4, 5]\n",
      "\t [1, 2, 3, 4, 5]\n",
      "-------------------------\n"
     ]
    },
    {
     "data": {
      "text/plain": [
       "[1, 2, 3, 4, 5]"
      ]
     },
     "execution_count": 9,
     "metadata": {},
     "output_type": "execute_result"
    }
   ],
   "source": [
    "insertion_sort_visual([4,5,1,3,2])"
   ]
  },
  {
   "cell_type": "code",
   "execution_count": 10,
   "metadata": {},
   "outputs": [
    {
     "data": {
      "text/plain": [
       "'\\nInsertion Sort -\\nO(n^2)\\nOmega(n)\\n'"
      ]
     },
     "execution_count": 10,
     "metadata": {},
     "output_type": "execute_result"
    }
   ],
   "source": [
    "'''\n",
    "Insertion Sort -\n",
    "O(n^2)\n",
    "Omega(n)\n",
    "'''"
   ]
  },
  {
   "cell_type": "code",
   "execution_count": 11,
   "metadata": {},
   "outputs": [
    {
     "name": "stdout",
     "output_type": "stream",
     "text": [
      "[1] | [2, 3, 4, 5]\n",
      "-------------------------\n",
      "[1, 2] | [3, 4, 5]\n",
      "-------------------------\n",
      "[1, 2, 3] | [4, 5]\n",
      "-------------------------\n",
      "[1, 2, 3, 4] | [5]\n",
      "-------------------------\n"
     ]
    },
    {
     "data": {
      "text/plain": [
       "[1, 2, 3, 4, 5]"
      ]
     },
     "execution_count": 11,
     "metadata": {},
     "output_type": "execute_result"
    }
   ],
   "source": [
    "insertion_sort_visual([1,2,3,4,5])"
   ]
  },
  {
   "cell_type": "code",
   "execution_count": 12,
   "metadata": {},
   "outputs": [],
   "source": [
    "def random(n):\n",
    "    x = n\n",
    "    y = n + x # y = 2n\n",
    "    z = n + y # z = 3n\n",
    "    \n",
    "    for i in range(x):\n",
    "        if z > 2 * n:\n",
    "            break"
   ]
  },
  {
   "cell_type": "code",
   "execution_count": 14,
   "metadata": {},
   "outputs": [],
   "source": [
    "def random(n):\n",
    "    x = n # 1 operation\n",
    "\n",
    "    for i in range(x): # n operations\n",
    "        for j in range(x): # 1 operatiion -> because of the break statement\n",
    "            if x == n:\n",
    "                break"
   ]
  },
  {
   "cell_type": "code",
   "execution_count": 4,
   "metadata": {},
   "outputs": [],
   "source": [
    "def fun(i,j):\n",
    "      if(i==0):\n",
    "         return j\n",
    "      else:\n",
    "         return fun(i-1,j+1)"
   ]
  },
  {
   "cell_type": "code",
   "execution_count": 5,
   "metadata": {},
   "outputs": [
    {
     "data": {
      "text/plain": [
       "12"
      ]
     },
     "execution_count": 5,
     "metadata": {},
     "output_type": "execute_result"
    }
   ],
   "source": [
    "fun(4,8)"
   ]
  },
  {
   "cell_type": "code",
   "execution_count": 6,
   "metadata": {},
   "outputs": [],
   "source": [
    "def count_freq(x, y):\n",
    "  if(y!=1):\n",
    "    if(x!=1):\n",
    "      print(\"*\")\n",
    "      count_freq(x/2,y)\n",
    "    else:\n",
    "      print(\"#\")\n",
    "      y=y-1\n",
    "      count_freq(x,y)"
   ]
  },
  {
   "cell_type": "code",
   "execution_count": 7,
   "metadata": {},
   "outputs": [
    {
     "name": "stdout",
     "output_type": "stream",
     "text": [
      "*\n",
      "*\n",
      "*\n",
      "*\n",
      "*\n",
      "*\n",
      "*\n",
      "*\n",
      "#\n",
      "#\n",
      "#\n"
     ]
    }
   ],
   "source": [
    "count_freq(256,4)"
   ]
  },
  {
   "cell_type": "code",
   "execution_count": 8,
   "metadata": {},
   "outputs": [
    {
     "name": "stdout",
     "output_type": "stream",
     "text": [
      "-7\n"
     ]
    }
   ],
   "source": [
    "def fun(i,j):\n",
    "  if(i==0):\n",
    "    return j\n",
    "  else:\n",
    "    return fun(j,i-5)\n",
    "\n",
    "print(fun(15,8))"
   ]
  },
  {
   "cell_type": "code",
   "execution_count": null,
   "metadata": {},
   "outputs": [],
   "source": []
  }
 ],
 "metadata": {
  "kernelspec": {
   "display_name": "Python 3",
   "language": "python",
   "name": "python3"
  },
  "language_info": {
   "codemirror_mode": {
    "name": "ipython",
    "version": 3
   },
   "file_extension": ".py",
   "mimetype": "text/x-python",
   "name": "python",
   "nbconvert_exporter": "python",
   "pygments_lexer": "ipython3",
   "version": "3.11.1"
  },
  "orig_nbformat": 4,
  "vscode": {
   "interpreter": {
    "hash": "236178af6f648e00519e077836b3ac634bd3def9b921796a679cc929c64b686e"
   }
  }
 },
 "nbformat": 4,
 "nbformat_minor": 2
}
