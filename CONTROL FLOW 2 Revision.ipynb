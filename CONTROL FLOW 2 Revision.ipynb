{
 "cells": [
  {
   "cell_type": "code",
   "execution_count": 1,
   "id": "f9501e00",
   "metadata": {},
   "outputs": [
    {
     "data": {
      "text/plain": [
       "'\\nQuestion 1 - \\nFIZZBUZZ - \\n1. Take an integer input n\\n2. If N is a multiple of 3 -> print FIZZ\\n3. If N is a multiple of 5 -> print BUZZ\\n4. If N is a multiple of both 3 and 5 -> FIZZBUZZ\\n\\nOtherwise print nothing.\\n'"
      ]
     },
     "execution_count": 1,
     "metadata": {},
     "output_type": "execute_result"
    }
   ],
   "source": [
    "'''\n",
    "Question 1 - \n",
    "FIZZBUZZ - \n",
    "1. Take an integer input n\n",
    "2. If N is a multiple of 3 -> print FIZZ\n",
    "3. If N is a multiple of 5 -> print BUZZ\n",
    "4. If N is a multiple of both 3 and 5 -> FIZZBUZZ\n",
    "\n",
    "Otherwise print nothing.\n",
    "'''"
   ]
  },
  {
   "cell_type": "code",
   "execution_count": 14,
   "id": "cc7faced",
   "metadata": {},
   "outputs": [
    {
     "name": "stdout",
     "output_type": "stream",
     "text": [
      "15\n",
      "FIZZ\n"
     ]
    }
   ],
   "source": [
    "n = int(input())\n",
    "if n % 3 == 0:\n",
    "    print(\"FIZZ\")\n",
    "elif n % 5 == 0:\n",
    "    print(\"BUZZ\")\n",
    "elif n % 3 == 0 and n % 5 == 0:\n",
    "    print(\"FIZZBUZZ\")\n",
    "else:\n",
    "    print(\"Nothing\")\n",
    "    \n",
    "# ye code satisfy nhi hai because n % 3 == 0 runs phale. to n % 3 == 0 and \n",
    "# n % 5 == 0 run nhi kre ga."
   ]
  },
  {
   "cell_type": "code",
   "execution_count": 15,
   "id": "66ec7c2a",
   "metadata": {},
   "outputs": [
    {
     "name": "stdout",
     "output_type": "stream",
     "text": [
      "15\n",
      "FIZZBUZZ\n"
     ]
    }
   ],
   "source": [
    "n = int(input())\n",
    "if n % 3 == 0 and n % 5 == 0:\n",
    "    print(\"FIZZBUZZ\")\n",
    "elif n % 5 == 0:\n",
    "    print(\"BUZZ\")\n",
    "elif n % 3 == 0:\n",
    "    print(\"FIZZ\")\n",
    "else:\n",
    "    print(\"Nothing\")"
   ]
  },
  {
   "cell_type": "code",
   "execution_count": 16,
   "id": "2d3b58ea",
   "metadata": {},
   "outputs": [
    {
     "data": {
      "text/plain": [
       "'\\nQuestion 2 - \\nWhat will be the output of the following code?\\n\\na = 50\\nif a > 40:\\n    print(\"A\")\\nif a > 30:\\n    print(\"B\")\\nif a > 20:\\n    print(\"C\")\\n'"
      ]
     },
     "execution_count": 16,
     "metadata": {},
     "output_type": "execute_result"
    }
   ],
   "source": [
    "'''\n",
    "Question 2 - \n",
    "What will be the output of the following code?\n",
    "\n",
    "a = 50\n",
    "if a > 40:\n",
    "    print(\"A\")\n",
    "if a > 30:\n",
    "    print(\"B\")\n",
    "if a > 20:\n",
    "    print(\"C\")\n",
    "'''"
   ]
  },
  {
   "cell_type": "code",
   "execution_count": 17,
   "id": "d7df13bb",
   "metadata": {},
   "outputs": [
    {
     "name": "stdout",
     "output_type": "stream",
     "text": [
      "A\n",
      "B\n",
      "C\n"
     ]
    }
   ],
   "source": [
    "a = 50\n",
    "if a > 40:\n",
    "    print(\"A\")\n",
    "if a > 30:\n",
    "    print(\"B\")\n",
    "if a > 20:\n",
    "    print(\"C\")"
   ]
  },
  {
   "cell_type": "code",
   "execution_count": 23,
   "id": "85d60eb2",
   "metadata": {},
   "outputs": [
    {
     "name": "stdout",
     "output_type": "stream",
     "text": [
      "A\n"
     ]
    }
   ],
   "source": [
    "a = 50\n",
    "if a > 40:\n",
    "    print(\"A\")\n",
    "elif a > 30:\n",
    "    print(\"B\")\n",
    "elif a > 20:\n",
    "    print(\"C\")"
   ]
  },
  {
   "cell_type": "code",
   "execution_count": 24,
   "id": "4c3fcd84",
   "metadata": {},
   "outputs": [
    {
     "data": {
      "text/plain": [
       "'\\nQuestion 3 - \\nTake in three inputs from a user which are marks in english, maths and science.\\nAssign streams according to the following criteria.\\n- if science > 90 or marks in all subjects are greater than equal to 75 -> Science\\n- if marks in all subjects are greater than 60 -> Commerce\\n- if marks in any are less than or equal to 60 -> Humanities\\n'"
      ]
     },
     "execution_count": 24,
     "metadata": {},
     "output_type": "execute_result"
    }
   ],
   "source": [
    "'''\n",
    "Question 3 - \n",
    "Take in three inputs from a user which are marks in english, maths and science.\n",
    "Assign streams according to the following criteria.\n",
    "- if science > 90 or marks in all subjects are greater than equal to 75 -> Science\n",
    "- if marks in all subjects are greater than 60 -> Commerce\n",
    "- if marks in any are less than or equal to 60 -> Humanities\n",
    "'''"
   ]
  },
  {
   "cell_type": "code",
   "execution_count": 31,
   "id": "3af17e1e",
   "metadata": {},
   "outputs": [
    {
     "name": "stdout",
     "output_type": "stream",
     "text": [
      "Marks in Math: - 60\n",
      "Marks in Science: - 60\n",
      "Marks in English: - 60\n",
      "Humanities\n"
     ]
    }
   ],
   "source": [
    "e = int(input(\"Marks in Math: - \"))\n",
    "m = int(input(\"Marks in Science: - \"))\n",
    "s = int(input(\"Marks in English: - \"))\n",
    "if s > 90 or (s >= 75 and e >= 75 and m >= 75):\n",
    "    print(\"Science\")\n",
    "elif  s > 60 and m > 60 and e > 60:\n",
    "    print(\"Commerce\")\n",
    "else:\n",
    "    print(\"Humanities\")"
   ]
  },
  {
   "cell_type": "code",
   "execution_count": null,
   "id": "8c18a554",
   "metadata": {},
   "outputs": [],
   "source": [
    "\n",
    "BONUS QUESTIONS - \n",
    "1. Build a meter system for an auto. Take into two inputs. \n",
    "Kilometers Travelled and Stall Time (in minutes). Rate List -\n",
    "- First 10 kms - Rs 10 per Km\n",
    "- Next 40 kms - Rs 9 per Km\n",
    "- Next 100 kms - Rs 8 per Km\n",
    "- Any leftover km count - Rs. 6 per Km\n",
    "\n",
    "- Rs 5 extra for every minute of Stall Time.\n",
    "\n",
    "------------------------------------------\n",
    "\n",
    "2. Generate electricity bill using the following rate card.\n",
    "Take units consumed as input -\n",
    "- If < 100 units -> Free\n",
    "- If >= 100 units and < 200 units -> Rs 2 per unit\n",
    "- If >= 200 units -> Rs 5 per unit\n",
    "\n",
    "'''"
   ]
  },
  {
   "cell_type": "code",
   "execution_count": 34,
   "id": "c9a88299",
   "metadata": {},
   "outputs": [
    {
     "name": "stdout",
     "output_type": "stream",
     "text": [
      "105\n",
      "Rs 2 per unit\n"
     ]
    }
   ],
   "source": [
    "# Code for Question 2.\n",
    "Unit_consumed = int(input())\n",
    "if Unit_consumed < 100:\n",
    "    print(\"Free\")\n",
    "elif Unit_consumed >= 100 and Unit_consumed < 200:\n",
    "    print(\"Rs 2 per unit\")\n",
    "elif Unit_consumed >= 200:\n",
    "    print(\"Rs 5 per unit\")"
   ]
  },
  {
   "cell_type": "code",
   "execution_count": null,
   "id": "868aef3a",
   "metadata": {},
   "outputs": [],
   "source": [
    "# Code for Question 1.\n",
    "K_t = int(input(\"Kilometer travelled: - \"))\n",
    "S_t = int(input(\"Stall Time: - \"))\n",
    "\n"
   ]
  },
  {
   "cell_type": "markdown",
   "id": "689f945e",
   "metadata": {},
   "source": [
    "## SHORT CIRCUITING"
   ]
  },
  {
   "cell_type": "code",
   "execution_count": 35,
   "id": "de3207a1",
   "metadata": {},
   "outputs": [
    {
     "data": {
      "text/plain": [
       "5"
      ]
     },
     "execution_count": 35,
     "metadata": {},
     "output_type": "execute_result"
    }
   ],
   "source": [
    "5 or True\n",
    "# truthy or any_other value"
   ]
  },
  {
   "cell_type": "code",
   "execution_count": 37,
   "id": "d24a0cb9",
   "metadata": {},
   "outputs": [
    {
     "data": {
      "text/plain": [
       "7"
      ]
     },
     "execution_count": 37,
     "metadata": {},
     "output_type": "execute_result"
    }
   ],
   "source": [
    "0 or 7\n",
    "# Falsy or any_other value"
   ]
  },
  {
   "cell_type": "code",
   "execution_count": 38,
   "id": "eb587fbf",
   "metadata": {},
   "outputs": [
    {
     "data": {
      "text/plain": [
       "False"
      ]
     },
     "execution_count": 38,
     "metadata": {},
     "output_type": "execute_result"
    }
   ],
   "source": [
    "0 or False "
   ]
  },
  {
   "cell_type": "code",
   "execution_count": 39,
   "id": "06af1d25",
   "metadata": {},
   "outputs": [
    {
     "data": {
      "text/plain": [
       "'\\nOR Operation in Python ->\\nFirst Value Truthy -> First Value (Ignores the second value)\\nFirst Value is Falsy -> Second Value\\n'"
      ]
     },
     "execution_count": 39,
     "metadata": {},
     "output_type": "execute_result"
    }
   ],
   "source": [
    "'''\n",
    "OR Operation in Python ->\n",
    "First Value Truthy -> First Value (Ignores the second value)\n",
    "First Value is Falsy -> Second Value\n",
    "'''"
   ]
  },
  {
   "cell_type": "code",
   "execution_count": 41,
   "id": "7e655499",
   "metadata": {},
   "outputs": [
    {
     "data": {
      "text/plain": [
       "True"
      ]
     },
     "execution_count": 41,
     "metadata": {},
     "output_type": "execute_result"
    }
   ],
   "source": [
    "1 and True"
   ]
  },
  {
   "cell_type": "code",
   "execution_count": 43,
   "id": "8dbd05d6",
   "metadata": {},
   "outputs": [
    {
     "data": {
      "text/plain": [
       "''"
      ]
     },
     "execution_count": 43,
     "metadata": {},
     "output_type": "execute_result"
    }
   ],
   "source": [
    "\"\" and \"Something\""
   ]
  },
  {
   "cell_type": "code",
   "execution_count": 45,
   "id": "b9f7a19e",
   "metadata": {},
   "outputs": [],
   "source": [
    "#  Logical Operators\n",
    "\n",
    "# Not(Highest)\n",
    "# And\n",
    "# or (Lowest)"
   ]
  },
  {
   "cell_type": "code",
   "execution_count": 46,
   "id": "dfd419d8",
   "metadata": {},
   "outputs": [
    {
     "data": {
      "text/plain": [
       "True"
      ]
     },
     "execution_count": 46,
     "metadata": {},
     "output_type": "execute_result"
    }
   ],
   "source": [
    "True and False or True and True\n",
    "# False or True and True\n",
    "# False or True\n",
    "# True"
   ]
  },
  {
   "cell_type": "code",
   "execution_count": 48,
   "id": "97fee45b",
   "metadata": {},
   "outputs": [
    {
     "data": {
      "text/plain": [
       "1"
      ]
     },
     "execution_count": 48,
     "metadata": {},
     "output_type": "execute_result"
    }
   ],
   "source": [
    "True and 1 or 0 and True\n",
    "# 1 or 0 and True\n",
    "# 1 or 0\n",
    "# 1"
   ]
  },
  {
   "cell_type": "code",
   "execution_count": 49,
   "id": "28ae4550",
   "metadata": {},
   "outputs": [
    {
     "name": "stdout",
     "output_type": "stream",
     "text": [
      "2\n"
     ]
    }
   ],
   "source": [
    "if False:\n",
    "    print(\"1\")\n",
    "elif True:\n",
    "    print(\"2\")\n",
    "elif True:\n",
    "    print(\"3\")\n",
    "else:\n",
    "    print(\"4\")"
   ]
  },
  {
   "cell_type": "code",
   "execution_count": null,
   "id": "6c6ee870",
   "metadata": {},
   "outputs": [],
   "source": []
  }
 ],
 "metadata": {
  "kernelspec": {
   "display_name": "Python 3 (ipykernel)",
   "language": "python",
   "name": "python3"
  },
  "language_info": {
   "codemirror_mode": {
    "name": "ipython",
    "version": 3
   },
   "file_extension": ".py",
   "mimetype": "text/x-python",
   "name": "python",
   "nbconvert_exporter": "python",
   "pygments_lexer": "ipython3",
   "version": "3.10.9"
  }
 },
 "nbformat": 4,
 "nbformat_minor": 5
}
