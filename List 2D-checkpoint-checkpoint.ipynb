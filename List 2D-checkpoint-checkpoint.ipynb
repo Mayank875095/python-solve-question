{
 "cells": [
  {
   "cell_type": "code",
   "execution_count": 6,
   "id": "cc97e9a5",
   "metadata": {},
   "outputs": [],
   "source": [
    "a = \"double quotes\"\n",
    "b = 'single quotes'\n",
    "c = '''triple quotes''' # docstrings"
   ]
  },
  {
   "cell_type": "code",
   "execution_count": 7,
   "id": "f0eff657",
   "metadata": {},
   "outputs": [
    {
     "data": {
      "text/plain": [
       "False"
      ]
     },
     "execution_count": 7,
     "metadata": {},
     "output_type": "execute_result"
    }
   ],
   "source": [
    "\"a\" > \"b\" # because of ASCII"
   ]
  },
  {
   "cell_type": "code",
   "execution_count": 8,
   "id": "aaffd7f1",
   "metadata": {},
   "outputs": [
    {
     "data": {
      "text/plain": [
       "True"
      ]
     },
     "execution_count": 8,
     "metadata": {},
     "output_type": "execute_result"
    }
   ],
   "source": [
    "\"a\" > \"A\" # because of ASCII"
   ]
  },
  {
   "cell_type": "code",
   "execution_count": 9,
   "id": "77268e60",
   "metadata": {},
   "outputs": [
    {
     "data": {
      "text/plain": [
       "'random123'"
      ]
     },
     "execution_count": 9,
     "metadata": {},
     "output_type": "execute_result"
    }
   ],
   "source": [
    "\"random\" + \"123\""
   ]
  },
  {
   "cell_type": "code",
   "execution_count": 10,
   "id": "33fba82d",
   "metadata": {},
   "outputs": [
    {
     "data": {
      "text/plain": [
       "'blablablablablabla'"
      ]
     },
     "execution_count": 10,
     "metadata": {},
     "output_type": "execute_result"
    }
   ],
   "source": [
    "\"bla\" *2*3"
   ]
  },
  {
   "cell_type": "code",
   "execution_count": 11,
   "id": "fe58be8b",
   "metadata": {},
   "outputs": [
    {
     "data": {
      "text/plain": [
       "True"
      ]
     },
     "execution_count": 11,
     "metadata": {},
     "output_type": "execute_result"
    }
   ],
   "source": [
    "\"zebra\" > \"ajykfjidfniushdsnfvbivsfniysfhsgnbisbvnkjsou\""
   ]
  },
  {
   "cell_type": "code",
   "execution_count": 12,
   "id": "9ed76c66",
   "metadata": {},
   "outputs": [],
   "source": [
    "# Input  -> length and breadth\n",
    "# Calculate Area.\n",
    "# print the following- \n",
    "# \"LENGTH = <1> Breadth = <b> , Area = <a>\""
   ]
  },
  {
   "cell_type": "code",
   "execution_count": 1,
   "id": "3a38dcc1",
   "metadata": {},
   "outputs": [
    {
     "name": "stdout",
     "output_type": "stream",
     "text": [
      "Length = 5 Breadth = 10 Area = 50\n"
     ]
    }
   ],
   "source": [
    "lenght = 5\n",
    "breadth = 10\n",
    "\n",
    "def cal_area_1(l, b):\n",
    "    a = l * b\n",
    "    print(\"Length =\", l, \"Breadth =\", b, \"Area =\", a)\n",
    "\n",
    "cal_area_1(lenght, breadth)"
   ]
  },
  {
   "cell_type": "code",
   "execution_count": 14,
   "id": "6c43d7f3",
   "metadata": {},
   "outputs": [
    {
     "name": "stdout",
     "output_type": "stream",
     "text": [
      "Length= 5, Breadth = 10, Area = 50\n"
     ]
    }
   ],
   "source": [
    "def cal_area_2(l,b):\n",
    "    a = l * b\n",
    "    print(\"Length= {}, Breadth = {}, Area = {}\".format(l,b,a))\n",
    "\n",
    "cal_area_2(lenght, breadth)"
   ]
  },
  {
   "cell_type": "code",
   "execution_count": 15,
   "id": "ca139301",
   "metadata": {},
   "outputs": [
    {
     "name": "stdout",
     "output_type": "stream",
     "text": [
      "Lenght = 5, Breadth 10, Area = 50\n"
     ]
    }
   ],
   "source": [
    "def cal_area_3(l,b):\n",
    "    a = l * b\n",
    "    print(f\"Lenght = {l}, Breadth {b}, Area = {a}\")\n",
    "\n",
    "cal_area_3(lenght, breadth)\n"
   ]
  },
  {
   "cell_type": "code",
   "execution_count": 16,
   "id": "0c7abe7d",
   "metadata": {},
   "outputs": [
    {
     "name": "stdout",
     "output_type": "stream",
     "text": [
      "Length = 5 ,Breadth = 10 ,Area = 50\n",
      "Length= 5, Breadth = 10, Area = 50\n",
      "Lenght = 5, Breadth 10, Area = 50\n"
     ]
    }
   ],
   "source": [
    "l = 5\n",
    "b = 10\n",
    "a = l*b\n",
    "\n",
    "print(\"Length =\", l, \",Breadth =\", b, \",Area =\", a)\n",
    "print(\"Length= {}, Breadth = {}, Area = {}\".format(l,b,a))\n",
    "print(f\"Lenght = {l}, Breadth {b}, Area = {a}\")\n"
   ]
  },
  {
   "cell_type": "markdown",
   "id": "3240886e",
   "metadata": {},
   "source": [
    "<!-- print(\"Length =\", l, \"Breadth =\", b, \"Area =\", a)\n",
    "print(\"Length= {}, Breadth = {}, Area = {}\".format(l,b,a))\n",
    "print(f\"Lenght = {l}, Breadth {b}, Area = {a}\") -->\n"
   ]
  },
  {
   "cell_type": "code",
   "execution_count": 17,
   "id": "0b8088e3",
   "metadata": {},
   "outputs": [
    {
     "data": {
      "text/plain": [
       "'string1 , string2'"
      ]
     },
     "execution_count": 17,
     "metadata": {},
     "output_type": "execute_result"
    }
   ],
   "source": [
    "s1 = \"string1\"\n",
    "s2 = \"string2\"\n",
    "b = f\"{s1} , {s2}\"\n",
    "\n",
    "b"
   ]
  },
  {
   "cell_type": "code",
   "execution_count": 18,
   "id": "8e55bf50",
   "metadata": {},
   "outputs": [
    {
     "data": {
      "text/plain": [
       "97"
      ]
     },
     "execution_count": 18,
     "metadata": {},
     "output_type": "execute_result"
    }
   ],
   "source": [
    "# given a character - get the integer value (mapping)\n",
    "ord(\"a\")"
   ]
  },
  {
   "cell_type": "code",
   "execution_count": 19,
   "id": "1f6deb4c",
   "metadata": {},
   "outputs": [
    {
     "data": {
      "text/plain": [
       "10"
      ]
     },
     "execution_count": 19,
     "metadata": {},
     "output_type": "execute_result"
    }
   ],
   "source": [
    "ord(\"\\n\")"
   ]
  },
  {
   "cell_type": "code",
   "execution_count": 20,
   "id": "db8a4591",
   "metadata": {},
   "outputs": [
    {
     "data": {
      "text/plain": [
       "32"
      ]
     },
     "execution_count": 20,
     "metadata": {},
     "output_type": "execute_result"
    }
   ],
   "source": [
    "ord(\" \")"
   ]
  },
  {
   "cell_type": "code",
   "execution_count": 21,
   "id": "498f554a",
   "metadata": {},
   "outputs": [
    {
     "data": {
      "text/plain": [
       "'a'"
      ]
     },
     "execution_count": 21,
     "metadata": {},
     "output_type": "execute_result"
    }
   ],
   "source": [
    "# given an integer / mapping value - get the correponding character.\n",
    "chr(97)"
   ]
  },
  {
   "cell_type": "code",
   "execution_count": 22,
   "id": "9225d8d4",
   "metadata": {},
   "outputs": [
    {
     "data": {
      "text/plain": [
       "'b'"
      ]
     },
     "execution_count": 22,
     "metadata": {},
     "output_type": "execute_result"
    }
   ],
   "source": [
    "chr(98)"
   ]
  },
  {
   "cell_type": "code",
   "execution_count": 23,
   "id": "fc42ec45",
   "metadata": {},
   "outputs": [
    {
     "data": {
      "text/plain": [
       "'0'"
      ]
     },
     "execution_count": 23,
     "metadata": {},
     "output_type": "execute_result"
    }
   ],
   "source": [
    "chr(48)"
   ]
  },
  {
   "cell_type": "code",
   "execution_count": 24,
   "id": "89d1fcdd",
   "metadata": {},
   "outputs": [
    {
     "data": {
      "text/plain": [
       "'\\nQuestion 1-\\n1. Take a string as input from the user. \\n2. Print the sting character by character in new lines. \\n\\nINPUT - VIRAT\\noutput-\\nV\\nI\\nR\\nA\\nT\\n'"
      ]
     },
     "execution_count": 24,
     "metadata": {},
     "output_type": "execute_result"
    }
   ],
   "source": [
    "'''\n",
    "Question 1-\n",
    "1. Take a string as input from the user. \n",
    "2. Print the sting character by character in new lines. \n",
    "\n",
    "INPUT - VIRAT\n",
    "output-\n",
    "V\n",
    "I\n",
    "R\n",
    "A\n",
    "T\n",
    "'''"
   ]
  },
  {
   "cell_type": "code",
   "execution_count": 25,
   "id": "278f9717",
   "metadata": {},
   "outputs": [],
   "source": [
    "a = input()\n",
    "\n",
    "for i in a:\n",
    "    print(i)"
   ]
  },
  {
   "cell_type": "code",
   "execution_count": null,
   "id": "2ffcb3ea",
   "metadata": {},
   "outputs": [
    {
     "data": {
      "text/plain": [
       "'\\nQuestion 1-\\n1. Take a string as input from the user. \\n2. Print the following -\\n\"First character - f, last character - l\"\\n'"
      ]
     },
     "execution_count": 20,
     "metadata": {},
     "output_type": "execute_result"
    }
   ],
   "source": [
    "'''\n",
    "Question 2-\n",
    "1. Take a string as input from the user. \n",
    "2. Print the following -\n",
    "\"First character - f, last character - l\"\n",
    "''' "
   ]
  },
  {
   "cell_type": "code",
   "execution_count": null,
   "id": "05e9eae2",
   "metadata": {},
   "outputs": [],
   "source": [
    "a = input()\n",
    "\n",
    "print (f\"First character - {a[0]}, Last character - {a[-l]}\")"
   ]
  },
  {
   "cell_type": "code",
   "execution_count": null,
   "id": "90b3ae38",
   "metadata": {},
   "outputs": [],
   "source": [
    "'''\n",
    "Question 3-\n",
    "1. Take a string as input from the user. \n",
    "2. Reverse that string.\n",
    "''' "
   ]
  },
  {
   "cell_type": "code",
   "execution_count": null,
   "id": "8499032b",
   "metadata": {},
   "outputs": [],
   "source": [
    "a = input()\n",
    "\n",
    "print(a[::-1])"
   ]
  },
  {
   "cell_type": "code",
   "execution_count": 7,
   "id": "d14d801e",
   "metadata": {},
   "outputs": [
    {
     "data": {
      "text/plain": [
       "'\\nQuestion 4-\\n1. Take a string as input from the user. \\n2. Check whether that string is a palindrome or not.\\n\\nNAMAN - palindrome\\nSHAKER - Not a Palindrome\\n'"
      ]
     },
     "execution_count": 7,
     "metadata": {},
     "output_type": "execute_result"
    }
   ],
   "source": [
    "'''\n",
    "Question 4-\n",
    "1. Take a string as input from the user. \n",
    "2. Check whether that string is a palindrome or not.\n",
    "\n",
    "NAMAN - palindrome\n",
    "SHAKER - Not a Palindrome\n",
    "''' "
   ]
  },
  {
   "cell_type": "code",
   "execution_count": 4,
   "id": "6e8aacda",
   "metadata": {},
   "outputs": [],
   "source": [
    "def check_palindrome(a):\n",
    "    a = a.lower()\n",
    "\n",
    "    if a == a[::-1]:\n",
    "        return True\n",
    "    else:\n",
    "        return False\n",
    "\n",
    "    a = input()"
   ]
  },
  {
   "cell_type": "code",
   "execution_count": 5,
   "id": "38c95641",
   "metadata": {},
   "outputs": [
    {
     "ename": "NameError",
     "evalue": "name 'a' is not defined",
     "output_type": "error",
     "traceback": [
      "\u001b[1;31m----------------------------------------------------------------------\u001b[0m",
      "\u001b[1;31mNameError\u001b[0m                            Traceback (most recent call last)",
      "Cell \u001b[1;32mIn[5], line 1\u001b[0m\n\u001b[1;32m----> 1\u001b[0m check_palindrome(\u001b[43ma\u001b[49m)\n",
      "\u001b[1;31mNameError\u001b[0m: name 'a' is not defined"
     ]
    }
   ],
   "source": [
    " check_palindrome(a)"
   ]
  },
  {
   "cell_type": "code",
   "execution_count": 6,
   "id": "300ca291",
   "metadata": {},
   "outputs": [
    {
     "data": {
      "text/plain": [
       "'\\nQuestion 5 -\\n1. Take a string as input from the user. \\n2. Print the number of uppercase characters in that string. (alphabets)\\n\\nINPUT - \"This is a Random %^&*()\"\\n\\nOUTPUT - 2\\n'"
      ]
     },
     "execution_count": 6,
     "metadata": {},
     "output_type": "execute_result"
    }
   ],
   "source": [
    "'''\n",
    "Question 5 -\n",
    "1. Take a string as input from the user. \n",
    "2. Print the number of uppercase characters in that string. (alphabets)\n",
    "\n",
    "INPUT - \"This is a Random %^&*()\"\n",
    "\n",
    "OUTPUT - 2\n",
    "''' "
   ]
  },
  {
   "cell_type": "code",
   "execution_count": 5,
   "id": "b73d43d4",
   "metadata": {},
   "outputs": [],
   "source": [
    "a = \"This is a Random %^&*()\"\n",
    "\n",
    "def count_uppercase(a):\n",
    "    count = 0\n",
    "\n",
    "    for i in a:\n",
    "        if ord(i) >= 65 and ord(i) <= 90:\n",
    "            count += 1\n",
    "    return count\n",
    "\n",
    "    count_uppercase(a)"
   ]
  },
  {
   "cell_type": "code",
   "execution_count": null,
   "id": "fb8abb72",
   "metadata": {},
   "outputs": [],
   "source": [
    "a = \"This is a Random %^&*()\"\n",
    "\n",
    "def count_uppercase(a):\n",
    "    count = 0\n",
    "\n",
    "    for i in a:\n",
    "        if i.supper():\n",
    "            # return True if upperscae else return False\n",
    "            count += 1\n",
    "    return count\n",
    "\n",
    "    count_uppercase(a)"
   ]
  },
  {
   "cell_type": "code",
   "execution_count": 1,
   "id": "c44e1dfc",
   "metadata": {},
   "outputs": [
    {
     "data": {
      "text/plain": [
       "'a'"
      ]
     },
     "execution_count": 1,
     "metadata": {},
     "output_type": "execute_result"
    }
   ],
   "source": [
    "\"A\".lower()"
   ]
  },
  {
   "cell_type": "code",
   "execution_count": 2,
   "id": "4a19bbd2",
   "metadata": {},
   "outputs": [
    {
     "data": {
      "text/plain": [
       "False"
      ]
     },
     "execution_count": 2,
     "metadata": {},
     "output_type": "execute_result"
    }
   ],
   "source": [
    "\"A\".islower()"
   ]
  },
  {
   "cell_type": "code",
   "execution_count": 3,
   "id": "dba548b9",
   "metadata": {},
   "outputs": [
    {
     "data": {
      "text/plain": [
       "True"
      ]
     },
     "execution_count": 3,
     "metadata": {},
     "output_type": "execute_result"
    }
   ],
   "source": [
    "\"A\".isupper()"
   ]
  },
  {
   "cell_type": "code",
   "execution_count": 4,
   "id": "a7e29600",
   "metadata": {},
   "outputs": [
    {
     "data": {
      "text/plain": [
       "'A'"
      ]
     },
     "execution_count": 4,
     "metadata": {},
     "output_type": "execute_result"
    }
   ],
   "source": [
    "\"a\".upper()"
   ]
  },
  {
   "cell_type": "code",
   "execution_count": 5,
   "id": "b92c4248",
   "metadata": {},
   "outputs": [
    {
     "data": {
      "text/plain": [
       "'\\nQuestion 5 -\\n1. You are given a list as input to a function.\\n2. Generate a string from the chr values of the integers in the list.\\n\\nINPUT - [65, 97, 68]\\nOUTPUT - \"AaD\"\\n\\nExplanation - \\n\"A\" -> 65\\n\"a\" -> 97\\n\"D\" -> 68\\n'"
      ]
     },
     "execution_count": 5,
     "metadata": {},
     "output_type": "execute_result"
    }
   ],
   "source": [
    "'''\n",
    "Question 6 -\n",
    "1. You are given a list as input to a function.\n",
    "2. Generate a string from the chr values of the integers in the list.\n",
    "\n",
    "INPUT - [65, 97, 68]\n",
    "OUTPUT - \"AaD\"\n",
    "\n",
    "Explanation - \n",
    "\"A\" -> 65\n",
    "\"a\" -> 97\n",
    "\"D\" -> 68\n",
    "''' "
   ]
  },
  {
   "cell_type": "code",
   "execution_count": 11,
   "id": "6f1d6232",
   "metadata": {},
   "outputs": [],
   "source": [
    "def generate_string(a):\n",
    "    result = \"\"\n",
    "\n",
    "    for i in a:\n",
    "        result += chr(i)\n",
    "    return result\n",
    "\n",
    "    generate_string(input_list)"
   ]
  },
  {
   "cell_type": "code",
   "execution_count": 10,
   "id": "eec257d5",
   "metadata": {},
   "outputs": [],
   "source": [
    "word = \"Scaler Academy\"\n",
    "n = len(word)\n",
    "word1 = word.upper()\n",
    "word2 = word.lower()\n",
    "\n",
    "converted_word = \"\"\n",
    "\n",
    "for i in range(n):\n",
    "     if i % 2 == 0:\n",
    "          converted_word += word2[i]\n",
    "     else:\n",
    "          converted_word += word1[i]"
   ]
  },
  {
   "cell_type": "code",
   "execution_count": 12,
   "id": "4dd4e039",
   "metadata": {},
   "outputs": [
    {
     "ename": "SyntaxError",
     "evalue": "invalid character '“' (U+201C) (3307251711.py, line 1)",
     "output_type": "error",
     "traceback": [
      "\u001b[1;36m  Cell \u001b[1;32mIn[12], line 1\u001b[1;36m\u001b[0m\n\u001b[1;33m    print(“hello” +1+2+3)\u001b[0m\n\u001b[1;37m          ^\u001b[0m\n\u001b[1;31mSyntaxError\u001b[0m\u001b[1;31m:\u001b[0m invalid character '“' (U+201C)\n"
     ]
    }
   ],
   "source": [
    "print(“hello” +1+2+3)"
   ]
  },
  {
   "cell_type": "code",
   "execution_count": 13,
   "id": "659b9830",
   "metadata": {},
   "outputs": [
    {
     "name": "stdout",
     "output_type": "stream",
     "text": [
      "hello\n",
      "yello\n"
     ]
    }
   ],
   "source": [
    "a = 'hello'\n",
    "b = a\n",
    "a = 'yello'\n",
    "\n",
    "print(b)\n",
    "print(a)"
   ]
  },
  {
   "cell_type": "code",
   "execution_count": 17,
   "id": "78d2c77a",
   "metadata": {},
   "outputs": [],
   "source": [
    "a = \"Random String\"\n",
    "b = a"
   ]
  },
  {
   "cell_type": "code",
   "execution_count": 18,
   "id": "708e6f78",
   "metadata": {},
   "outputs": [],
   "source": [
    "a = \"Random String\"\n",
    "c = str(a)"
   ]
  },
  {
   "cell_type": "code",
   "execution_count": 19,
   "id": "9d43b138",
   "metadata": {},
   "outputs": [],
   "source": [
    "def new_func():\n",
    "    a = \"Random String\"\n",
    "    return a\n",
    "\n",
    "a = new_func()\n",
    "d = a[:]"
   ]
  },
  {
   "cell_type": "code",
   "execution_count": 20,
   "id": "e1605c75",
   "metadata": {},
   "outputs": [],
   "source": [
    "a = \"Random String\"\n",
    "e = \"Rand\"+\"\"+\"om Str\"+\"\"+\"ing\"\n"
   ]
  }
 ],
 "metadata": {
  "kernelspec": {
   "display_name": "Python 3 (ipykernel)",
   "language": "python",
   "name": "python3"
  },
  "language_info": {
   "codemirror_mode": {
    "name": "ipython",
    "version": 3
   },
   "file_extension": ".py",
   "mimetype": "text/x-python",
   "name": "python",
   "nbconvert_exporter": "python",
   "pygments_lexer": "ipython3",
   "version": "3.11.1"
  },
  "vscode": {
   "interpreter": {
    "hash": "236178af6f648e00519e077836b3ac634bd3def9b921796a679cc929c64b686e"
   }
  }
 },
 "nbformat": 4,
 "nbformat_minor": 5
}
