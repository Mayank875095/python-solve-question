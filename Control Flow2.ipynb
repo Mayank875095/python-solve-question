{
 "cells": [
  {
   "attachments": {},
   "cell_type": "markdown",
   "metadata": {},
   "source": [
    "## CONTROL FLOW 2"
   ]
  },
  {
   "cell_type": "code",
   "execution_count": 4,
   "metadata": {},
   "outputs": [
    {
     "data": {
      "text/plain": [
       "'\\nQuestion 1 - \\nFIZZBUZZ - \\n1. Take an integer input n\\n2. If N is a multiple of 3 -> print FIZZ\\n3. If N is a multiple of 5 -> print BUZZ\\n4. If N is a multiple of both 3 and 5 -> FIZZBUZZ\\n\\nOtherwise print nothing.\\n'"
      ]
     },
     "execution_count": 4,
     "metadata": {},
     "output_type": "execute_result"
    }
   ],
   "source": [
    "'''\n",
    "Question 1 - \n",
    "FIZZBUZZ - \n",
    "1. Take an integer input n\n",
    "2. If N is a multiple of 3 -> print FIZZ\n",
    "3. If N is a multiple of 5 -> print BUZZ\n",
    "4. If N is a multiple of both 3 and 5 -> FIZZBUZZ\n",
    "\n",
    "Otherwise print nothing.\n",
    "'''"
   ]
  },
  {
   "cell_type": "code",
   "execution_count": null,
   "metadata": {},
   "outputs": [],
   "source": []
  },
  {
   "cell_type": "code",
   "execution_count": null,
   "metadata": {},
   "outputs": [],
   "source": []
  }
 ],
 "metadata": {
  "kernelspec": {
   "display_name": "Python 3",
   "language": "python",
   "name": "python3"
  },
  "language_info": {
   "codemirror_mode": {
    "name": "ipython",
    "version": 3
   },
   "file_extension": ".py",
   "mimetype": "text/x-python",
   "name": "python",
   "nbconvert_exporter": "python",
   "pygments_lexer": "ipython3",
   "version": "3.11.1"
  },
  "orig_nbformat": 4
 },
 "nbformat": 4,
 "nbformat_minor": 2
}
