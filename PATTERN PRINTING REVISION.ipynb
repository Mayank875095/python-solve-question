{
 "cells": [
  {
   "cell_type": "code",
   "execution_count": 1,
   "id": "1d142f2a",
   "metadata": {},
   "outputs": [
    {
     "name": "stdout",
     "output_type": "stream",
     "text": [
      "How are you\n"
     ]
    }
   ],
   "source": [
    "print(\"How are you\")"
   ]
  },
  {
   "cell_type": "code",
   "execution_count": 2,
   "id": "838f411a",
   "metadata": {},
   "outputs": [
    {
     "data": {
      "text/plain": [
       "'\\nQ- 1\\nprint the following pattern\\n\\nn = 5\\n*\\n**\\n***\\n****\\n*****\\n\\nInput the number of rows from the user: n\\n'"
      ]
     },
     "execution_count": 2,
     "metadata": {},
     "output_type": "execute_result"
    }
   ],
   "source": [
    "'''\n",
    "Q- 1\n",
    "print the following pattern\n",
    "\n",
    "n = 5\n",
    "*\n",
    "**\n",
    "***\n",
    "****\n",
    "*****\n",
    "\n",
    "Input the number of rows from the user: n\n",
    "'''"
   ]
  },
  {
   "cell_type": "code",
   "execution_count": 4,
   "id": "0f741467",
   "metadata": {},
   "outputs": [
    {
     "name": "stdout",
     "output_type": "stream",
     "text": [
      "5\n",
      "*\n",
      "**\n",
      "***\n",
      "****\n",
      "*****\n"
     ]
    }
   ],
   "source": [
    "n = int(input())\n",
    "for i in range(n):\n",
    "    for j in range(i + 1):\n",
    "        print(\"*\", end = \"\")\n",
    "        \n",
    "    print()"
   ]
  },
  {
   "cell_type": "code",
   "execution_count": 8,
   "id": "2ffaec7a",
   "metadata": {},
   "outputs": [
    {
     "data": {
      "text/plain": [
       "'\\nn = 6\\n1\\n12\\n123\\n1234\\n12345\\n123456\\n\\n'"
      ]
     },
     "execution_count": 8,
     "metadata": {},
     "output_type": "execute_result"
    }
   ],
   "source": [
    "'''\n",
    "n = 6\n",
    "1\n",
    "12\n",
    "123\n",
    "1234\n",
    "12345\n",
    "123456\n",
    "\n",
    "'''"
   ]
  },
  {
   "cell_type": "code",
   "execution_count": 9,
   "id": "3dd8d163",
   "metadata": {},
   "outputs": [
    {
     "name": "stdout",
     "output_type": "stream",
     "text": [
      "6\n",
      "1\n",
      "12\n",
      "123\n",
      "1234\n",
      "12345\n",
      "123456\n"
     ]
    }
   ],
   "source": [
    "n = int(input())\n",
    "\n",
    "for i in range(1, n+1):\n",
    "#     print the ith row\n",
    "    for j in range(1, i+1):\n",
    "        print(j, end = \"\")\n",
    "        \n",
    "    print()\n"
   ]
  },
  {
   "cell_type": "code",
   "execution_count": 10,
   "id": "763251ec",
   "metadata": {},
   "outputs": [
    {
     "name": "stdout",
     "output_type": "stream",
     "text": [
      "******"
     ]
    }
   ],
   "source": [
    " i = 5\n",
    "# i+1 stars\n",
    "for j in range(i+1):\n",
    "  print('*', end = \"\")\n"
   ]
  },
  {
   "cell_type": "code",
   "execution_count": 11,
   "id": "5247adad",
   "metadata": {},
   "outputs": [
    {
     "name": "stdout",
     "output_type": "stream",
     "text": [
      "1\n",
      "12\n",
      "123\n",
      "1234\n",
      "12345\n"
     ]
    }
   ],
   "source": [
    "# n = int(input())\n",
    "\n",
    "n = 5\n",
    "for i in range(1, n+1):\n",
    "  #print the ith row\n",
    "  for j in range(1, i+1):\n",
    "    print(j, end = \"\")\n",
    "\n",
    "  print()\n",
    "     "
   ]
  },
  {
   "cell_type": "code",
   "execution_count": 12,
   "id": "9bee4812",
   "metadata": {},
   "outputs": [
    {
     "name": "stdout",
     "output_type": "stream",
     "text": [
      "0\n",
      "1\n",
      "2\n",
      "3\n",
      "4\n"
     ]
    }
   ],
   "source": [
    "#HW - try to start row numbers from 0 and then print the same pattern\n",
    "     \n",
    "\n",
    "for i in range(5):\n",
    "  print(i)\n",
    "     "
   ]
  },
  {
   "cell_type": "code",
   "execution_count": 13,
   "id": "deb80411",
   "metadata": {},
   "outputs": [
    {
     "name": "stdout",
     "output_type": "stream",
     "text": [
      "0 1 2 3 4 "
     ]
    }
   ],
   "source": [
    "for i in range(5):\n",
    "  print(i, end = \" \")"
   ]
  },
  {
   "cell_type": "code",
   "execution_count": 14,
   "id": "eaa41841",
   "metadata": {},
   "outputs": [
    {
     "data": {
      "text/plain": [
       "'\\nQuestion2:\\n\\nPrint the following pattern:\\n\\nn = 6\\n1\\n12\\n123\\n1234\\n12345\\n123456\\n\\n'"
      ]
     },
     "execution_count": 14,
     "metadata": {},
     "output_type": "execute_result"
    }
   ],
   "source": [
    "'''\n",
    "Question2:\n",
    "\n",
    "Print the following pattern:\n",
    "\n",
    "n = 6\n",
    "1\n",
    "12\n",
    "123\n",
    "1234\n",
    "12345\n",
    "123456\n",
    "\n",
    "'''\n",
    "     \n"
   ]
  },
  {
   "cell_type": "code",
   "execution_count": 17,
   "id": "ef5f6103",
   "metadata": {},
   "outputs": [
    {
     "name": "stdout",
     "output_type": "stream",
     "text": [
      "1\n",
      "12\n",
      "123\n",
      "1234\n",
      "12345\n"
     ]
    }
   ],
   "source": [
    "#0 based row number\n",
    "\n",
    "n = 5\n",
    "\n",
    "for i in range(n):\n",
    "\n",
    "  #print the ith row\n",
    "  for j in range(1, i+2):\n",
    "    print(j, end = \"\")\n",
    "\n",
    "  print()"
   ]
  },
  {
   "cell_type": "code",
   "execution_count": 18,
   "id": "492e4fd1",
   "metadata": {},
   "outputs": [
    {
     "data": {
      "text/plain": [
       "'\\nQuestion2:\\n\\nPrint the following pattern:\\n\\nn = 6\\n*\\n*2\\n*2*\\n*2*4\\n*2*4*\\n*2*4*6\\n\\n\\nObs:\\nWithin each row: printing 1 - i\\neven - print number\\nodd - print *\\n'"
      ]
     },
     "execution_count": 18,
     "metadata": {},
     "output_type": "execute_result"
    }
   ],
   "source": [
    "'''\n",
    "Question2:\n",
    "\n",
    "Print the following pattern:\n",
    "\n",
    "n = 6\n",
    "*\n",
    "*2\n",
    "*2*\n",
    "*2*4\n",
    "*2*4*\n",
    "*2*4*6\n",
    "\n",
    "\n",
    "Obs:\n",
    "Within each row: printing 1 - i\n",
    "even - print number\n",
    "odd - print *\n",
    "'''"
   ]
  },
  {
   "cell_type": "code",
   "execution_count": 19,
   "id": "a923d73a",
   "metadata": {},
   "outputs": [
    {
     "name": "stdout",
     "output_type": "stream",
     "text": [
      "5\n",
      "*\n",
      "*2\n",
      "*2*\n",
      "*2*4\n",
      "*2*4*\n"
     ]
    }
   ],
   "source": [
    "n = int(input())\n",
    "\n",
    "for i in range(1,n+1):\n",
    "\n",
    "  #print the ith row\n",
    "  for j in range(1,i+1):\n",
    "\n",
    "    if j%2 == 0:\n",
    "      print(j, end = \"\")\n",
    "    else:\n",
    "      print('*', end= \"\")\n",
    "\n",
    "  print()\n",
    "     "
   ]
  },
  {
   "cell_type": "code",
   "execution_count": 21,
   "id": "ca961de7",
   "metadata": {},
   "outputs": [
    {
     "name": "stdout",
     "output_type": "stream",
     "text": [
      "*\n",
      "*2\n",
      "*2*\n",
      "*2*4\n",
      "*2*4*\n",
      "*2*4*6\n"
     ]
    }
   ],
   "source": [
    "n = 6\n",
    "\n",
    "for i in range(1,n+1):\n",
    "\n",
    "  #print the ith row\n",
    "  for j in range(1,i+1):\n",
    "\n",
    "    if j%2 == 0:\n",
    "      print(j, end = \"\")\n",
    "    else:\n",
    "      print('*', end= \"\")\n",
    "\n",
    "  print()"
   ]
  },
  {
   "cell_type": "code",
   "execution_count": 22,
   "id": "8ece04d3",
   "metadata": {},
   "outputs": [
    {
     "data": {
      "text/plain": [
       "'\\nQuesiton4:\\nPrint the following pattern:\\nn = 5\\n\\n    *\\n   **\\n  ***\\n ****\\n*****\\n'"
      ]
     },
     "execution_count": 22,
     "metadata": {},
     "output_type": "execute_result"
    }
   ],
   "source": [
    "'''\n",
    "Quesiton4:\n",
    "Print the following pattern:\n",
    "n = 5\n",
    "\n",
    "    *\n",
    "   **\n",
    "  ***\n",
    " ****\n",
    "*****\n",
    "'''\n",
    "     "
   ]
  },
  {
   "cell_type": "code",
   "execution_count": 23,
   "id": "2730f8a8",
   "metadata": {},
   "outputs": [
    {
     "name": "stdout",
     "output_type": "stream",
     "text": [
      "\n",
      "\n",
      "\n",
      "\n",
      "\n"
     ]
    }
   ],
   "source": [
    "n = 5\n",
    "\n",
    "for i in range(n):\n",
    "\n",
    "  #print ith row\n",
    "\n",
    "  #print the space part\n",
    "\n",
    "  #print the star part\n",
    "\n",
    "  print()"
   ]
  },
  {
   "cell_type": "code",
   "execution_count": 24,
   "id": "19ff55f9",
   "metadata": {},
   "outputs": [
    {
     "name": "stdout",
     "output_type": "stream",
     "text": [
      "@@@@*\n",
      "@@@**\n",
      "@@***\n",
      "@****\n",
      "*****\n"
     ]
    }
   ],
   "source": [
    "n = 5\n",
    "\n",
    "for i in range(n):\n",
    "\n",
    "  #print ith row\n",
    "\n",
    "  #print the space part- this loop should run n-i-1 number of times\n",
    "  for j in range(n-i-1):\n",
    "    print(\"@\", end = \"\")\n",
    "\n",
    "  #print the star part- this loop should run i+1 number of times\n",
    "  for k in range(i+1):\n",
    "    print(\"*\", end = \"\")\n",
    "\n",
    "  print()"
   ]
  },
  {
   "cell_type": "code",
   "execution_count": null,
   "id": "02eaf225",
   "metadata": {},
   "outputs": [],
   "source": []
  }
 ],
 "metadata": {
  "kernelspec": {
   "display_name": "Python 3 (ipykernel)",
   "language": "python",
   "name": "python3"
  },
  "language_info": {
   "codemirror_mode": {
    "name": "ipython",
    "version": 3
   },
   "file_extension": ".py",
   "mimetype": "text/x-python",
   "name": "python",
   "nbconvert_exporter": "python",
   "pygments_lexer": "ipython3",
   "version": "3.10.9"
  }
 },
 "nbformat": 4,
 "nbformat_minor": 5
}
